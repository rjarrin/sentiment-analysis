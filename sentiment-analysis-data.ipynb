{
 "cells": [
  {
   "cell_type": "markdown",
   "id": "bfcbbc92-0a2f-46fc-8b3b-575e2b0495d5",
   "metadata": {},
   "source": [
    "# Sentiment Analysis and Machine Learning on Educational Reviews\r\n",
    "\r\n",
    "This project performs sentiment analysis on educational reviews from the `course_data_clean.cs, `course_data_clean.csv`v` dataset. The goal is to evaluate and compare the effectiveness of various sentiment analysis models and machine learning classifiers in predicting the sentiment of course reviews.\r\n",
    "\r\n",
    "## Project Overview\r\n",
    "\r\n",
    "- **Data Collection**: Utilizes course reviews data to analyze sentiment.\r\n",
    "- **Data Preprocessing**: Cleans the text data by removing URLs, special characters, and extra spaces to prepare it for analysis.\r\n",
    "- **Sentiment Analysis Models**:\r\n",
    "  - **TextBlob**: Provides a simple API for diving into common natural language processing (NLP) tasks.\r\n",
    "  - **VADER**: A lexicon and rule-based sentiment analysis tool specifically attuned to sentiments expressed in social media.\r\n",
    "  - **Transformers (DistilBERT)**: Uses a transformer-based model fine-tuned for sentiment analysis to provide more nuanced sentiment scores.\r\n",
    "\r\n",
    "- **Machine Learning Models**:\r\n",
    "  - **Logistic Regression**: A linear model for binary classification tasks.\r\n",
    "  - **Support Vector Machine (SVM)**: A powerful classifier that works well with high-dimensional data.\r\n",
    "  - **Random Forest**: An ensemble method that combines multiple decision trees to improve classification accuracy.\r\n",
    "\r\n",
    "## Evaluation and Validation\r\n",
    "\r\n",
    "- **Metrics**: The models are evaluated using accuracy, precision, recall, and F1-score.\r\n",
    "- **Comparison with Ratings**: Sentiment analysis results are compared with actual course ratings to determine true positives, false positives, true negatives, and false negatives.\r\n",
    "- **Visualization**: Confusion matrices and bar graphs are used to visualize the distribution of ratings  potential PhD candidates."
   ]
  },
  {
   "cell_type": "code",
   "execution_count": 24,
   "id": "52f786bb-853a-4e38-a343-5d29ed73b3fe",
   "metadata": {},
   "outputs": [],
   "source": [
    "# Import the prerequisite libraries\n",
    "# Data specific libraries\n",
    "import pandas as pd\n",
    "import numpy as np\n",
    "import re\n",
    "import matplotlib.pyplot as plt\n",
    "import seaborn as sns\n",
    "\n",
    "# Data analysis specific libraries\n",
    "from sklearn.preprocessing import LabelEncoder\n",
    "from sklearn.model_selection import train_test_split\n",
    "from sklearn.metrics import accuracy_score, precision_score, recall_score, precision_recall_fscore_support, f1_score\n",
    "from sklearn.metrics import classification_report\n",
    "from sklearn.metrics import confusion_matrix, ConfusionMatrixDisplay\n",
    "from sklearn.metrics import RocCurveDisplay\n",
    "from sklearn.feature_extraction.text import TfidfVectorizer\n",
    "from sklearn.utils import resample\n",
    "\n",
    "# Machine learning algorithm libraries\n",
    "from sklearn import tree\n",
    "from sklearn.linear_model import LogisticRegression\n",
    "from sklearn.neighbors import KNeighborsClassifier\n",
    "from sklearn.svm import SVC\n",
    "from sklearn.naive_bayes import GaussianNB\n",
    "from sklearn.ensemble import RandomForestClassifier\n",
    "from sklearn.ensemble import GradientBoostingClassifier\n",
    "from sklearn.ensemble import AdaBoostClassifier\n",
    "from sklearn.linear_model import SGDClassifier\n",
    "\n",
    "# Sentiment analysis libraires\n",
    "from textblob import TextBlob\n",
    "from vaderSentiment.vaderSentiment import SentimentIntensityAnalyzer\n",
    "from transformers import pipeline"
   ]
  },
  {
   "cell_type": "markdown",
   "id": "03669d14-aad8-4ced-a06d-9d803232d62e",
   "metadata": {},
   "source": [
    "## Dataset description\n",
    "**inputs/course_data_clean.csv**:<br>\n",
    "The dataset contains reviews at the course-review level. The motivation behind creating this dataset was to train a classifier that could determine, based on the course review, whether the reviewer had a positive or negative experience with the course. All of the reviews in the dataset were obtained from the website uwflow.com.\n",
    "<br>\n",
    "\n",
    "The dataset was downloaded from _https://www.kaggle.com/datasets/anthonysusevski/course-reviews-university-of-waterloo/data_\n",
    "<br><br>\n",
    "**inputs/collegereview2021.csv**:<br>\n",
    "This dataset contains all the Engineering college reviews for colleges in India . I scraped the data from Collegedunia website. The data contains 4 variables:\n",
    "\n",
    "* Username\n",
    "* College Name\n",
    "* Review\n",
    "* Rating\n",
    "\n",
    "The dataset was downloaded from _https://www.kaggle.com/datasets/anthonysusevski/course-reviews-university-of-waterloo/data_"
   ]
  },
  {
   "cell_type": "markdown",
   "id": "40c60f49-343e-4123-a948-f6ed8a8e0c19",
   "metadata": {},
   "source": [
    "## Gather and organize the data"
   ]
  },
  {
   "cell_type": "code",
   "execution_count": 2,
   "id": "39103d00-e9cd-4051-9eb5-96004c023e77",
   "metadata": {},
   "outputs": [],
   "source": [
    "# Loading the datasets\n",
    "waterloo_data = pd.read_csv('inputs/course_data_clean.csv')\n",
    "college21_data = pd.read_csv('inputs/collegereview2021.csv')"
   ]
  },
  {
   "cell_type": "code",
   "execution_count": 3,
   "id": "34c28aaf-db88-4cb0-bc7a-b73ead44424e",
   "metadata": {},
   "outputs": [
    {
     "data": {
      "text/html": [
       "<div>\n",
       "<style scoped>\n",
       "    .dataframe tbody tr th:only-of-type {\n",
       "        vertical-align: middle;\n",
       "    }\n",
       "\n",
       "    .dataframe tbody tr th {\n",
       "        vertical-align: top;\n",
       "    }\n",
       "\n",
       "    .dataframe thead th {\n",
       "        text-align: right;\n",
       "    }\n",
       "</style>\n",
       "<table border=\"1\" class=\"dataframe\">\n",
       "  <thead>\n",
       "    <tr style=\"text-align: right;\">\n",
       "      <th></th>\n",
       "      <th>course_code</th>\n",
       "      <th>course_title</th>\n",
       "      <th>num_ratings</th>\n",
       "      <th>useful</th>\n",
       "      <th>easy</th>\n",
       "      <th>liked</th>\n",
       "      <th>num_reviews</th>\n",
       "      <th>reviews</th>\n",
       "      <th>course_rating</th>\n",
       "      <th>course_rating_int</th>\n",
       "    </tr>\n",
       "  </thead>\n",
       "  <tbody>\n",
       "    <tr>\n",
       "      <th>0</th>\n",
       "      <td>CS 115</td>\n",
       "      <td>Introduction to Computer Science 1</td>\n",
       "      <td>2111</td>\n",
       "      <td>21%</td>\n",
       "      <td>10%</td>\n",
       "      <td>23%</td>\n",
       "      <td>86</td>\n",
       "      <td>go to office hours and practice</td>\n",
       "      <td>liked course</td>\n",
       "      <td>1.0</td>\n",
       "    </tr>\n",
       "    <tr>\n",
       "      <th>1</th>\n",
       "      <td>CS 115</td>\n",
       "      <td>Introduction to Computer Science 1</td>\n",
       "      <td>2111</td>\n",
       "      <td>21%</td>\n",
       "      <td>10%</td>\n",
       "      <td>23%</td>\n",
       "      <td>86</td>\n",
       "      <td>One of my least favourite courses. Although th...</td>\n",
       "      <td>disliked course</td>\n",
       "      <td>0.0</td>\n",
       "    </tr>\n",
       "    <tr>\n",
       "      <th>2</th>\n",
       "      <td>CS 115</td>\n",
       "      <td>Introduction to Computer Science 1</td>\n",
       "      <td>2111</td>\n",
       "      <td>21%</td>\n",
       "      <td>10%</td>\n",
       "      <td>23%</td>\n",
       "      <td>86</td>\n",
       "      <td>It starts with a very low pace but after midte...</td>\n",
       "      <td>disliked course</td>\n",
       "      <td>0.0</td>\n",
       "    </tr>\n",
       "    <tr>\n",
       "      <th>3</th>\n",
       "      <td>CS 115</td>\n",
       "      <td>Introduction to Computer Science 1</td>\n",
       "      <td>2111</td>\n",
       "      <td>21%</td>\n",
       "      <td>10%</td>\n",
       "      <td>23%</td>\n",
       "      <td>86</td>\n",
       "      <td>Took this in 2018 with no programming experien...</td>\n",
       "      <td>liked course</td>\n",
       "      <td>1.0</td>\n",
       "    </tr>\n",
       "    <tr>\n",
       "      <th>4</th>\n",
       "      <td>CS 115</td>\n",
       "      <td>Introduction to Computer Science 1</td>\n",
       "      <td>2111</td>\n",
       "      <td>21%</td>\n",
       "      <td>10%</td>\n",
       "      <td>23%</td>\n",
       "      <td>86</td>\n",
       "      <td>I loved everything about cs 115. Great instruc...</td>\n",
       "      <td>liked course</td>\n",
       "      <td>1.0</td>\n",
       "    </tr>\n",
       "  </tbody>\n",
       "</table>\n",
       "</div>"
      ],
      "text/plain": [
       "  course_code                        course_title  num_ratings useful easy  \\\n",
       "0      CS 115  Introduction to Computer Science 1         2111    21%  10%   \n",
       "1      CS 115  Introduction to Computer Science 1         2111    21%  10%   \n",
       "2      CS 115  Introduction to Computer Science 1         2111    21%  10%   \n",
       "3      CS 115  Introduction to Computer Science 1         2111    21%  10%   \n",
       "4      CS 115  Introduction to Computer Science 1         2111    21%  10%   \n",
       "\n",
       "  liked  num_reviews                                            reviews  \\\n",
       "0   23%           86                    go to office hours and practice   \n",
       "1   23%           86  One of my least favourite courses. Although th...   \n",
       "2   23%           86  It starts with a very low pace but after midte...   \n",
       "3   23%           86  Took this in 2018 with no programming experien...   \n",
       "4   23%           86  I loved everything about cs 115. Great instruc...   \n",
       "\n",
       "     course_rating  course_rating_int  \n",
       "0     liked course                1.0  \n",
       "1  disliked course                0.0  \n",
       "2  disliked course                0.0  \n",
       "3     liked course                1.0  \n",
       "4     liked course                1.0  "
      ]
     },
     "execution_count": 3,
     "metadata": {},
     "output_type": "execute_result"
    }
   ],
   "source": [
    "# Examining the data\n",
    "pd.set_option('display.max_columns', None) # This will allow the program to show all column information in the dataset\n",
    "waterloo_data.head()"
   ]
  },
  {
   "cell_type": "markdown",
   "id": "4af89f24-4e53-4ffb-a7a2-508f2732c26c",
   "metadata": {},
   "source": [
    "The __.shape()__ method will display the number of rows and number of columns in the dataset"
   ]
  },
  {
   "cell_type": "code",
   "execution_count": 4,
   "id": "4cf60816-8b3a-45d9-b3d5-6203ea4fe43a",
   "metadata": {},
   "outputs": [
    {
     "name": "stdout",
     "output_type": "stream",
     "text": [
      "Dataset shape: (14838, 10)\n"
     ]
    }
   ],
   "source": [
    "# Shape of the dataset\n",
    "print(\"Dataset shape:\", waterloo_data.shape)"
   ]
  },
  {
   "cell_type": "markdown",
   "id": "b922cd94-5140-4869-a594-8bf058278813",
   "metadata": {},
   "source": [
    "The __.info()__ method will print information on the dataset to the user. In particular, we will need to identify if there is any missing data _(via the Non-Null Count)_ and if there are any object datatypes within the dataframe. Likewise, it will also provide the number of rows and columns via the _RangeIndex_ and _Data columns_ labels, respectively. <br>"
   ]
  },
  {
   "cell_type": "code",
   "execution_count": 5,
   "id": "4dc04c12-21da-4b4d-9f24-c5f4e73a2428",
   "metadata": {},
   "outputs": [
    {
     "name": "stdout",
     "output_type": "stream",
     "text": [
      "<class 'pandas.core.frame.DataFrame'>\n",
      "RangeIndex: 14838 entries, 0 to 14837\n",
      "Data columns (total 10 columns):\n",
      " #   Column             Non-Null Count  Dtype  \n",
      "---  ------             --------------  -----  \n",
      " 0   course_code        14838 non-null  object \n",
      " 1   course_title       14838 non-null  object \n",
      " 2   num_ratings        14838 non-null  int64  \n",
      " 3   useful             14836 non-null  object \n",
      " 4   easy               14835 non-null  object \n",
      " 5   liked              14835 non-null  object \n",
      " 6   num_reviews        14838 non-null  int64  \n",
      " 7   reviews            14829 non-null  object \n",
      " 8   course_rating      14616 non-null  object \n",
      " 9   course_rating_int  14616 non-null  float64\n",
      "dtypes: float64(1), int64(2), object(7)\n",
      "memory usage: 1.1+ MB\n"
     ]
    }
   ],
   "source": [
    "# Open concise summary of the dataframe\n",
    "waterloo_data.info()"
   ]
  },
  {
   "cell_type": "markdown",
   "id": "e0ac6605-f4f8-4926-80c2-84a91926dfdf",
   "metadata": {},
   "source": [
    "For extra measure, we can gather statistics on the dataframe's numerical columns. From the output, it appears some of the columns have higher variance than the others (e.g., web_traffic, ratio_intMedia, safe_anchor, etc.), which is due to these columns having larger values and ranges."
   ]
  },
  {
   "cell_type": "code",
   "execution_count": 6,
   "id": "b620056d-4d62-408e-9300-86afdd44c65b",
   "metadata": {},
   "outputs": [
    {
     "data": {
      "text/html": [
       "<div>\n",
       "<style scoped>\n",
       "    .dataframe tbody tr th:only-of-type {\n",
       "        vertical-align: middle;\n",
       "    }\n",
       "\n",
       "    .dataframe tbody tr th {\n",
       "        vertical-align: top;\n",
       "    }\n",
       "\n",
       "    .dataframe thead th {\n",
       "        text-align: right;\n",
       "    }\n",
       "</style>\n",
       "<table border=\"1\" class=\"dataframe\">\n",
       "  <thead>\n",
       "    <tr style=\"text-align: right;\">\n",
       "      <th></th>\n",
       "      <th>num_ratings</th>\n",
       "      <th>num_reviews</th>\n",
       "      <th>course_rating_int</th>\n",
       "    </tr>\n",
       "  </thead>\n",
       "  <tbody>\n",
       "    <tr>\n",
       "      <th>count</th>\n",
       "      <td>14838.000000</td>\n",
       "      <td>14838.000000</td>\n",
       "      <td>14616.000000</td>\n",
       "    </tr>\n",
       "    <tr>\n",
       "      <th>mean</th>\n",
       "      <td>238.956733</td>\n",
       "      <td>45.831379</td>\n",
       "      <td>0.669540</td>\n",
       "    </tr>\n",
       "    <tr>\n",
       "      <th>std</th>\n",
       "      <td>308.523872</td>\n",
       "      <td>54.487423</td>\n",
       "      <td>0.470395</td>\n",
       "    </tr>\n",
       "    <tr>\n",
       "      <th>min</th>\n",
       "      <td>0.000000</td>\n",
       "      <td>1.000000</td>\n",
       "      <td>0.000000</td>\n",
       "    </tr>\n",
       "    <tr>\n",
       "      <th>25%</th>\n",
       "      <td>33.000000</td>\n",
       "      <td>7.000000</td>\n",
       "      <td>0.000000</td>\n",
       "    </tr>\n",
       "    <tr>\n",
       "      <th>50%</th>\n",
       "      <td>104.000000</td>\n",
       "      <td>22.000000</td>\n",
       "      <td>1.000000</td>\n",
       "    </tr>\n",
       "    <tr>\n",
       "      <th>75%</th>\n",
       "      <td>341.000000</td>\n",
       "      <td>66.000000</td>\n",
       "      <td>1.000000</td>\n",
       "    </tr>\n",
       "    <tr>\n",
       "      <th>max</th>\n",
       "      <td>2111.000000</td>\n",
       "      <td>253.000000</td>\n",
       "      <td>1.000000</td>\n",
       "    </tr>\n",
       "  </tbody>\n",
       "</table>\n",
       "</div>"
      ],
      "text/plain": [
       "        num_ratings   num_reviews  course_rating_int\n",
       "count  14838.000000  14838.000000       14616.000000\n",
       "mean     238.956733     45.831379           0.669540\n",
       "std      308.523872     54.487423           0.470395\n",
       "min        0.000000      1.000000           0.000000\n",
       "25%       33.000000      7.000000           0.000000\n",
       "50%      104.000000     22.000000           1.000000\n",
       "75%      341.000000     66.000000           1.000000\n",
       "max     2111.000000    253.000000           1.000000"
      ]
     },
     "execution_count": 6,
     "metadata": {},
     "output_type": "execute_result"
    }
   ],
   "source": [
    "waterloo_data.describe()"
   ]
  },
  {
   "cell_type": "markdown",
   "id": "17068a1b-b6ca-41d8-9a89-5ff5463fcb3b",
   "metadata": {},
   "source": [
    "We need to determine if the dataset is balanced or not. We can check the frequency of unique classes in the dataset through the __.unique()__ and __.value_counts(()__ method."
   ]
  },
  {
   "cell_type": "code",
   "execution_count": 7,
   "id": "4deb4a7d-91e8-4677-82b9-691956e71256",
   "metadata": {},
   "outputs": [
    {
     "name": "stdout",
     "output_type": "stream",
     "text": [
      "Unique classes in the course_rating column:  ['liked course' 'disliked course' nan]\n",
      "\n",
      "course_rating\n",
      "liked course       9786\n",
      "disliked course    4830\n",
      "Name: count, dtype: int64\n"
     ]
    }
   ],
   "source": [
    "# Unique occurrences of the course_rating columns\n",
    "print(\"Unique classes in the course_rating column: \", waterloo_data['course_rating'].unique(), end=\"\\n\\n\")\n",
    "# Counting the values within each course_rating column\n",
    "category_dist = waterloo_data['course_rating'].value_counts()\n",
    "print(category_dist)"
   ]
  },
  {
   "cell_type": "code",
   "execution_count": 8,
   "id": "57816d89-c3b6-4ba4-a058-f9b6513b185f",
   "metadata": {},
   "outputs": [
    {
     "data": {
      "image/png": "[encoded data removed]",
      "text/plain": [
       "<Figure size 1200x1200 with 1 Axes>"
      ]
     },
     "metadata": {},
     "output_type": "display_data"
    }
   ],
   "source": [
    "# Defining the chart\n",
    "plt.figure(figsize=(12,12))\n",
    "category_dist.plot(kind='bar')\n",
    "plt.grid()\n",
    "plt.xlabel(\"Course Rating\", fontsize = 12)\n",
    "plt.ylabel(\"Frequency\", fontsize = 12)\n",
    "plt.title(\"Distribution of Course Rating Classes by Frequency\", fontsize = 15)\n",
    "plt.savefig(\"waterloo_data_1.png\", format='png', dpi=500, bbox_inches='tight')\n",
    "\n",
    "#Generating chart\n",
    "plt.show()"
   ]
  },
  {
   "cell_type": "markdown",
   "id": "696b299f-68e2-41af-adc0-102563e4ae50",
   "metadata": {},
   "source": [
    "The dataset is not balanced, and may introduce bias if the data is trained in a machine learning model. "
   ]
  },
  {
   "cell_type": "code",
   "execution_count": 9,
   "id": "5fa74f93-a621-4fc9-a8bf-37d28b918f70",
   "metadata": {},
   "outputs": [],
   "source": [
    "# Separate the majority and minority classes\n",
    "liked = waterloo_data[waterloo_data['course_rating'] == 'liked course']\n",
    "disliked = waterloo_data[waterloo_data['course_rating'] == 'disliked course']"
   ]
  },
  {
   "cell_type": "code",
   "execution_count": 10,
   "id": "ba02b536-318e-4c5d-be12-3f1fd6b9388b",
   "metadata": {},
   "outputs": [],
   "source": [
    "# Undersample the majority class\n",
    "liked_downsampled = resample(liked,\n",
    "                            replace=False, # sample without replacement\n",
    "                            n_samples=len(disliked), #match the number of disliked,\n",
    "random_state=42) #reproducible results"
   ]
  },
  {
   "cell_type": "code",
   "execution_count": 11,
   "id": "c53a9022-6489-4a86-97a5-45fe45ddd97b",
   "metadata": {},
   "outputs": [],
   "source": [
    "# Combine the downsampled majority class with the minority class\n",
    "balanced_data = pd.concat([liked_downsampled, disliked])"
   ]
  },
  {
   "cell_type": "code",
   "execution_count": 12,
   "id": "1b81053a-0c97-4457-8d3e-b8626f052b41",
   "metadata": {},
   "outputs": [
    {
     "name": "stdout",
     "output_type": "stream",
     "text": [
      "course_rating\n",
      "liked course       4830\n",
      "disliked course    4830\n",
      "Name: count, dtype: int64\n",
      "course_rating\n",
      "liked course       4830\n",
      "disliked course    4830\n",
      "Name: count, dtype: int64\n"
     ]
    }
   ],
   "source": [
    "# Display the new class distribution\n",
    "print(balanced_data['course_rating'].value_counts())\n",
    "category_dist = balanced_data['course_rating'].value_counts()\n",
    "print(category_dist)"
   ]
  },
  {
   "cell_type": "code",
   "execution_count": 13,
   "id": "40149a6f-e104-42e8-a89c-8fc640b72258",
   "metadata": {},
   "outputs": [
    {
     "data": {
      "image/png": "[encoded data removed]",
      "text/plain": [
       "<Figure size 1200x1200 with 1 Axes>"
      ]
     },
     "metadata": {},
     "output_type": "display_data"
    }
   ],
   "source": [
    "# Defining the chart\n",
    "plt.figure(figsize=(12,12))\n",
    "category_dist.plot(kind='bar')\n",
    "plt.grid()\n",
    "plt.xlabel(\"Course Rating\", fontsize = 12)\n",
    "plt.ylabel(\"Frequency\", fontsize = 12)\n",
    "plt.title(\"Distribution of Course Rating Classes by Frequency\", fontsize = 15)\n",
    "plt.savefig(\"waterloo_data_1.png\", format='png', dpi=500, bbox_inches='tight')\n",
    "\n",
    "#Generating chart\n",
    "plt.show()"
   ]
  },
  {
   "cell_type": "markdown",
   "id": "54b8d3e4-63be-4486-98c0-8d5ef365569a",
   "metadata": {},
   "source": [
    "## Perform data cleaning on the text reviews"
   ]
  },
  {
   "cell_type": "code",
   "execution_count": 14,
   "id": "33c3c0ca-cbef-4e49-aa6c-ea538d030def",
   "metadata": {},
   "outputs": [],
   "source": [
    "# Data cleaning\n",
    "def clean_text(text):\n",
    "    text = re.sub(r'http\\S+|www\\S+|https\\S+', '', text, flags=re.MULTILINE)\n",
    "    text = re.sub(r'\\@\\w+|\\#', '', text)\n",
    "    text = re.sub(r'\\W', ' ', text)\n",
    "    text = re.sub(r'\\s+[a-zA-Z]\\s+', ' ', text)\n",
    "    text = re.sub(r'\\s+', ' ', text, flags=re.I)\n",
    "    return text.strip()\n",
    "\n",
    "balanced_data['cleaned_reviews'] = balanced_data['reviews'].astype(str).apply(clean_text)"
   ]
  },
  {
   "cell_type": "code",
   "execution_count": 15,
   "id": "e63dfbce-883c-43c0-bbed-00aa2db69b01",
   "metadata": {},
   "outputs": [
    {
     "data": {
      "text/html": [
       "<div>\n",
       "<style scoped>\n",
       "    .dataframe tbody tr th:only-of-type {\n",
       "        vertical-align: middle;\n",
       "    }\n",
       "\n",
       "    .dataframe tbody tr th {\n",
       "        vertical-align: top;\n",
       "    }\n",
       "\n",
       "    .dataframe thead th {\n",
       "        text-align: right;\n",
       "    }\n",
       "</style>\n",
       "<table border=\"1\" class=\"dataframe\">\n",
       "  <thead>\n",
       "    <tr style=\"text-align: right;\">\n",
       "      <th></th>\n",
       "      <th>course_code</th>\n",
       "      <th>course_title</th>\n",
       "      <th>num_ratings</th>\n",
       "      <th>useful</th>\n",
       "      <th>easy</th>\n",
       "      <th>liked</th>\n",
       "      <th>num_reviews</th>\n",
       "      <th>reviews</th>\n",
       "      <th>course_rating</th>\n",
       "      <th>course_rating_int</th>\n",
       "      <th>cleaned_reviews</th>\n",
       "    </tr>\n",
       "  </thead>\n",
       "  <tbody>\n",
       "    <tr>\n",
       "      <th>13716</th>\n",
       "      <td>ITALST 111</td>\n",
       "      <td>Marriage and Family Traditions in Italy</td>\n",
       "      <td>7</td>\n",
       "      <td>36%</td>\n",
       "      <td>96%</td>\n",
       "      <td>100%</td>\n",
       "      <td>4</td>\n",
       "      <td>This was a relatively easy class but there was...</td>\n",
       "      <td>liked course</td>\n",
       "      <td>1.0</td>\n",
       "      <td>This was relatively easy class but there was l...</td>\n",
       "    </tr>\n",
       "    <tr>\n",
       "      <th>11021</th>\n",
       "      <td>CS 492</td>\n",
       "      <td>The Social Implications of Computing</td>\n",
       "      <td>34</td>\n",
       "      <td>47%</td>\n",
       "      <td>90%</td>\n",
       "      <td>68%</td>\n",
       "      <td>13</td>\n",
       "      <td>Sooooooooooo fucking easy. Just write bullshit...</td>\n",
       "      <td>liked course</td>\n",
       "      <td>1.0</td>\n",
       "      <td>Sooooooooooo fucking easy Just write bullshit ...</td>\n",
       "    </tr>\n",
       "    <tr>\n",
       "      <th>7268</th>\n",
       "      <td>FR 192A</td>\n",
       "      <td>French Language 1: Module 1</td>\n",
       "      <td>111</td>\n",
       "      <td>89%</td>\n",
       "      <td>77%</td>\n",
       "      <td>77%</td>\n",
       "      <td>17</td>\n",
       "      <td>This course was similar format to the 151/152 ...</td>\n",
       "      <td>liked course</td>\n",
       "      <td>1.0</td>\n",
       "      <td>This course was similar format to the 151 152 ...</td>\n",
       "    </tr>\n",
       "    <tr>\n",
       "      <th>9638</th>\n",
       "      <td>MTE 360</td>\n",
       "      <td>Automatic Control Systems</td>\n",
       "      <td>53</td>\n",
       "      <td>100%</td>\n",
       "      <td>14%</td>\n",
       "      <td>81%</td>\n",
       "      <td>11</td>\n",
       "      <td>FEEDBACK CONTROL</td>\n",
       "      <td>liked course</td>\n",
       "      <td>1.0</td>\n",
       "      <td>FEEDBACK CONTROL</td>\n",
       "    </tr>\n",
       "    <tr>\n",
       "      <th>10692</th>\n",
       "      <td>CS 365</td>\n",
       "      <td>Models of Computation</td>\n",
       "      <td>37</td>\n",
       "      <td>62%</td>\n",
       "      <td>47%</td>\n",
       "      <td>70%</td>\n",
       "      <td>7</td>\n",
       "      <td>This course was super interesting and it's eas...</td>\n",
       "      <td>liked course</td>\n",
       "      <td>1.0</td>\n",
       "      <td>This course was super interesting and it easil...</td>\n",
       "    </tr>\n",
       "  </tbody>\n",
       "</table>\n",
       "</div>"
      ],
      "text/plain": [
       "      course_code                             course_title  num_ratings  \\\n",
       "13716  ITALST 111  Marriage and Family Traditions in Italy            7   \n",
       "11021      CS 492     The Social Implications of Computing           34   \n",
       "7268      FR 192A              French Language 1: Module 1          111   \n",
       "9638      MTE 360                Automatic Control Systems           53   \n",
       "10692      CS 365                    Models of Computation           37   \n",
       "\n",
       "      useful easy liked  num_reviews  \\\n",
       "13716    36%  96%  100%            4   \n",
       "11021    47%  90%   68%           13   \n",
       "7268     89%  77%   77%           17   \n",
       "9638    100%  14%   81%           11   \n",
       "10692    62%  47%   70%            7   \n",
       "\n",
       "                                                 reviews course_rating  \\\n",
       "13716  This was a relatively easy class but there was...  liked course   \n",
       "11021  Sooooooooooo fucking easy. Just write bullshit...  liked course   \n",
       "7268   This course was similar format to the 151/152 ...  liked course   \n",
       "9638                                    FEEDBACK CONTROL  liked course   \n",
       "10692  This course was super interesting and it's eas...  liked course   \n",
       "\n",
       "       course_rating_int                                    cleaned_reviews  \n",
       "13716                1.0  This was relatively easy class but there was l...  \n",
       "11021                1.0  Sooooooooooo fucking easy Just write bullshit ...  \n",
       "7268                 1.0  This course was similar format to the 151 152 ...  \n",
       "9638                 1.0                                   FEEDBACK CONTROL  \n",
       "10692                1.0  This course was super interesting and it easil...  "
      ]
     },
     "execution_count": 15,
     "metadata": {},
     "output_type": "execute_result"
    }
   ],
   "source": [
    "balanced_data.head()"
   ]
  },
  {
   "cell_type": "code",
   "execution_count": 16,
   "id": "1b8c2bee-89e2-459a-bafa-a4a6fcfa6254",
   "metadata": {},
   "outputs": [],
   "source": [
    "# Sentiment analysis with TextBlob\n",
    "def textblob_sentiment(text):\n",
    "    analysis = TextBlob(text)\n",
    "    return 1 if analysis.sentiment.polarity > 0 else 0\n",
    "\n",
    "balanced_data['textblob_label'] = balanced_data['cleaned_reviews'].apply(textblob_sentiment)"
   ]
  },
  {
   "cell_type": "code",
   "execution_count": 17,
   "id": "92040223-e1c8-4916-a96f-a90914b94ea9",
   "metadata": {},
   "outputs": [],
   "source": [
    "# Sentiment analysis with VADER\n",
    "vader_analyzer = SentimentIntensityAnalyzer()\n",
    "\n",
    "def vader_sentiment(text):\n",
    "    return 1 if vader_analyzer.polarity_scores(text)['compound'] > 0 else 0\n",
    "\n",
    "balanced_data['vader_label'] = balanced_data['cleaned_reviews'].apply(vader_sentiment)"
   ]
  },
  {
   "cell_type": "code",
   "execution_count": 18,
   "id": "30ed0bab-f81a-4993-a584-29f57776cd50",
   "metadata": {},
   "outputs": [
    {
     "name": "stderr",
     "output_type": "stream",
     "text": [
      "Hardware accelerator e.g. GPU is available in the environment, but no `device` argument is passed to the `Pipeline` object. Model will be on CPU.\n"
     ]
    }
   ],
   "source": [
    "# Sentiment analysis with transformers\n",
    "transformer_analyzer = pipeline('sentiment-analysis', model=\"distilbert-base-uncased-finetuned-sst-2-english\")\n",
    "\n",
    "def transformer_sentiment(text):\n",
    "    result = transformer_analyzer(text, truncation=True, max_length=512)\n",
    "    return 1 if result[0]['label'] == 'POSITIVE' else 0\n",
    "\n",
    "balanced_data['transformer_label'] = balanced_data['cleaned_reviews'].apply(transformer_sentiment)"
   ]
  },
  {
   "cell_type": "code",
   "execution_count": 19,
   "id": "a09eca08-9c24-4f70-9d33-98d4d4f4a5f6",
   "metadata": {},
   "outputs": [],
   "source": [
    "# Compare with actual ratings\n",
    "balanced_data['actual_label'] = balanced_data['course_rating'].apply(lambda x: 1 if x == 'liked course' else 0)"
   ]
  },
  {
   "cell_type": "code",
   "execution_count": 20,
   "id": "af617c26-fdd1-44d6-b589-c17930bf5ae6",
   "metadata": {},
   "outputs": [],
   "source": [
    "# Evaluate the models\n",
    "def evaluate_model(predictions, actual):\n",
    "    accuracy = accuracy_score(actual, predictions)\n",
    "    precision, recall, f1, _ = precision_recall_fscore_support(actual, predictions, average='binary')\n",
    "    return accuracy, precision, recall, f1\n",
    "\n",
    "models = ['textblob', 'vader', 'transformer']\n",
    "results = {}\n",
    "\n",
    "for model in models:\n",
    "    accuracy, precision, recall, f1 = evaluate_model(balanced_data[f'{model}_label'], balanced_data['actual_label'])\n",
    "    results[model] = {'accuracy': accuracy, 'precision': precision, 'recall': recall, 'f1': f1}"
   ]
  },
  {
   "cell_type": "code",
   "execution_count": 21,
   "id": "d3032a67-2e1e-4067-818f-09120cf9934b",
   "metadata": {},
   "outputs": [
    {
     "name": "stdout",
     "output_type": "stream",
     "text": [
      "Textblob Model:\n",
      "Accuracy: 0.66\n",
      "Precision: 0.62\n",
      "Recall: 0.84\n",
      "F1 Score: 0.71\n",
      "\n",
      "Vader Model:\n",
      "Accuracy: 0.67\n",
      "Precision: 0.63\n",
      "Recall: 0.84\n",
      "F1 Score: 0.72\n",
      "\n",
      "Transformer Model:\n",
      "Accuracy: 0.72\n",
      "Precision: 0.77\n",
      "Recall: 0.63\n",
      "F1 Score: 0.69\n",
      "\n"
     ]
    }
   ],
   "source": [
    "# Display results\n",
    "for model, metrics in results.items():\n",
    "    print(f\"{model.capitalize()} Model:\")\n",
    "    print(f\"Accuracy: {metrics['accuracy']:.2f}\")\n",
    "    print(f\"Precision: {metrics['precision']:.2f}\")\n",
    "    print(f\"Recall: {metrics['recall']:.2f}\")\n",
    "    print(f\"F1 Score: {metrics['f1']:.2f}\\n\")"
   ]
  },
  {
   "cell_type": "code",
   "execution_count": 25,
   "id": "d9b0654c-070f-4b28-9af4-ed790f268f5f",
   "metadata": {},
   "outputs": [
    {
     "data": {
      "image/png": "[encoded data removed]",
      "text/plain": [
       "<Figure size 640x480 with 2 Axes>"
      ]
     },
     "metadata": {},
     "output_type": "display_data"
    }
   ],
   "source": [
    "# Plot confusion matrix for one model (e.g., Transformer)\n",
    "cm = confusion_matrix(balanced_data['actual_label'], balanced_data['transformer_label'])\n",
    "disp = ConfusionMatrixDisplay(confusion_matrix=cm, display_labels=['Disliked', 'Liked'])\n",
    "disp.plot()\n",
    "plt.title('Transformer Model Confusion Matrix')\n",
    "plt.show()"
   ]
  },
  {
   "cell_type": "code",
   "execution_count": null,
   "id": "68b54313-b819-4e42-a395-7c21f17e09ee",
   "metadata": {},
   "outputs": [],
   "source": []
  }
 ],
 "metadata": {
  "kernelspec": {
   "display_name": "Python 3 (ipykernel)",
   "language": "python",
   "name": "python3"
  },
  "language_info": {
   "codemirror_mode": {
    "name": "ipython",
    "version": 3
   },
   "file_extension": ".py",
   "mimetype": "text/x-python",
   "name": "python",
   "nbconvert_exporter": "python",
   "pygments_lexer": "ipython3",
   "version": "3.10.12"
  }
 },
 "nbformat": 4,
 "nbformat_minor": 5
}
