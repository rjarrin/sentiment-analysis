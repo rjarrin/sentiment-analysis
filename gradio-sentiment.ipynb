{
 "cells": [
  {
   "cell_type": "code",
   "execution_count": 2,
   "id": "073e16ba-cafd-4a2a-a72e-bbb1e492b288",
   "metadata": {},
   "outputs": [
    {
     "name": "stderr",
     "output_type": "stream",
     "text": [
      "2024-08-26 13:50:01.217835: I tensorflow/core/util/port.cc:153] oneDNN custom operations are on. You may see slightly different numerical results due to floating-point round-off errors from different computation orders. To turn them off, set the environment variable `TF_ENABLE_ONEDNN_OPTS=0`.\n",
      "2024-08-26 13:50:01.476371: E external/local_xla/xla/stream_executor/cuda/cuda_fft.cc:485] Unable to register cuFFT factory: Attempting to register factory for plugin cuFFT when one has already been registered\n",
      "2024-08-26 13:50:01.570177: E external/local_xla/xla/stream_executor/cuda/cuda_dnn.cc:8454] Unable to register cuDNN factory: Attempting to register factory for plugin cuDNN when one has already been registered\n",
      "2024-08-26 13:50:01.596747: E external/local_xla/xla/stream_executor/cuda/cuda_blas.cc:1452] Unable to register cuBLAS factory: Attempting to register factory for plugin cuBLAS when one has already been registered\n",
      "2024-08-26 13:50:01.805156: I tensorflow/core/platform/cpu_feature_guard.cc:210] This TensorFlow binary is optimized to use available CPU instructions in performance-critical operations.\n",
      "To enable the following instructions: AVX2 AVX_VNNI FMA, in other operations, rebuild TensorFlow with the appropriate compiler flags.\n",
      "2024-08-26 13:50:02.686216: W tensorflow/compiler/tf2tensorrt/utils/py_utils.cc:38] TF-TRT Warning: Could not find TensorRT\n"
     ]
    }
   ],
   "source": [
    "import gradio as gr\n",
    "from textblob import TextBlob\n",
    "from vaderSentiment.vaderSentiment import SentimentIntensityAnalyzer\n",
    "from transformers import pipeline\n",
    "import matplotlib.pyplot as plt\n",
    "import io\n",
    "import base64"
   ]
  },
  {
   "cell_type": "code",
   "execution_count": 3,
   "id": "df8158ab-0078-4c79-b86f-7f8e13faa1b0",
   "metadata": {},
   "outputs": [
    {
     "name": "stderr",
     "output_type": "stream",
     "text": [
      "Hardware accelerator e.g. GPU is available in the environment, but no `device` argument is passed to the `Pipeline` object. Model will be on CPU.\n"
     ]
    }
   ],
   "source": [
    "# Initialize sentiment analysis models\n",
    "vader_analyzer = SentimentIntensityAnalyzer()\n",
    "transformer_analyzer = pipeline('sentiment-analysis', model=\"distilbert-base-uncased-finetuned-sst-2-english\")"
   ]
  },
  {
   "cell_type": "code",
   "execution_count": 4,
   "id": "524e5d63-8403-4f90-b471-a9e6afd5f7eb",
   "metadata": {},
   "outputs": [],
   "source": [
    "# Define sentiment analysis functions\n",
    "def analyze_sentiment(text):\n",
    "    # TextBlob\n",
    "    textblob_polarity = TextBlob(text).sentiment.polarity\n",
    "    textblob_sentiment = 'Positive' if textblob_polarity > 0 else 'Negative' if textblob_polarity < 0 else 'Neutral'\n",
    "    \n",
    "    # VADER\n",
    "    vader_score = vader_analyzer.polarity_scores(text)['compound']\n",
    "    vader_sentiment = 'Positive' if vader_score > 0 else 'Negative' if vader_score < 0 else 'Neutral'\n",
    "    \n",
    "    # Transformers\n",
    "    transformer_result = transformer_analyzer(text, truncation=True, max_length=512)\n",
    "    transformer_sentiment = transformer_result[0]['label']\n",
    "\n",
    "    # Return both the sentiment results and the plot\n",
    "    return {\n",
    "        \"TextBlob Sentiment\": textblob_sentiment,\n",
    "        \"VADER Sentiment\": vader_sentiment,\n",
    "        \"Transformer Sentiment\": transformer_sentiment\n",
    "    }"
   ]
  },
  {
   "cell_type": "code",
   "execution_count": 5,
   "id": "6af9b4fd-d719-413d-8a1c-24f9d9e4a1f9",
   "metadata": {},
   "outputs": [],
   "source": [
    "# Create Gradio interface\n",
    "iface = gr.Interface(\n",
    "    fn=analyze_sentiment,\n",
    "    inputs=gr.Textbox(lines=5, placeholder=\"Enter text here...\"),\n",
    "    outputs=[gr.JSON()],\n",
    "    title=\"Sentiment Analysis App\",\n",
    "    description=\"Enter text to analyze sentiment using TextBlob, VADER, and Transformers.\",\n",
    "    examples=[[\"I love this course!\"], [\"This was a terrible experience.\"]],\n",
    "    live=True\n",
    ")"
   ]
  },
  {
   "cell_type": "code",
   "execution_count": 6,
   "id": "029ea85b-3c34-41a8-8949-70eaeb88ba50",
   "metadata": {},
   "outputs": [
    {
     "name": "stdout",
     "output_type": "stream",
     "text": [
      "Running on local URL:  http://127.0.0.1:7860\n",
      "\n",
      "To create a public link, set `share=True` in `launch()`.\n"
     ]
    },
    {
     "data": {
      "text/html": [
       "<div><iframe src=\"http://127.0.0.1:7860/\" width=\"100%\" height=\"500\" allow=\"autoplay; camera; microphone; clipboard-read; clipboard-write;\" frameborder=\"0\" allowfullscreen></iframe></div>"
      ],
      "text/plain": [
       "<IPython.core.display.HTML object>"
      ]
     },
     "metadata": {},
     "output_type": "display_data"
    },
    {
     "data": {
      "text/plain": []
     },
     "execution_count": 6,
     "metadata": {},
     "output_type": "execute_result"
    }
   ],
   "source": [
    "# Launch the app\n",
    "iface.launch()"
   ]
  },
  {
   "cell_type": "code",
   "execution_count": null,
   "id": "ef51e0bd-f72d-40aa-8176-391e46e63f05",
   "metadata": {},
   "outputs": [],
   "source": [
    "iface.close()"
   ]
  },
  {
   "cell_type": "code",
   "execution_count": null,
   "id": "a6ae9a4b-5cf6-42a2-9bf2-0208863590aa",
   "metadata": {},
   "outputs": [],
   "source": []
  }
 ],
 "metadata": {
  "kernelspec": {
   "display_name": "Python 3 (ipykernel)",
   "language": "python",
   "name": "python3"
  },
  "language_info": {
   "codemirror_mode": {
    "name": "ipython",
    "version": 3
   },
   "file_extension": ".py",
   "mimetype": "text/x-python",
   "name": "python",
   "nbconvert_exporter": "python",
   "pygments_lexer": "ipython3",
   "version": "3.10.12"
  }
 },
 "nbformat": 4,
 "nbformat_minor": 5
}
